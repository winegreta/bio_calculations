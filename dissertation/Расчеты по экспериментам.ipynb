{
 "cells": [
  {
   "cell_type": "code",
   "execution_count": 1,
   "metadata": {},
   "outputs": [],
   "source": [
    "import pandas as pd"
   ]
  },
  {
   "cell_type": "code",
   "execution_count": 3,
   "metadata": {},
   "outputs": [],
   "source": [
    "data = pd.read_excel('last_2.xlsx')"
   ]
  },
  {
   "cell_type": "code",
   "execution_count": 5,
   "metadata": {},
   "outputs": [
    {
     "data": {
      "text/html": [
       "<div>\n",
       "<style scoped>\n",
       "    .dataframe tbody tr th:only-of-type {\n",
       "        vertical-align: middle;\n",
       "    }\n",
       "\n",
       "    .dataframe tbody tr th {\n",
       "        vertical-align: top;\n",
       "    }\n",
       "\n",
       "    .dataframe thead th {\n",
       "        text-align: right;\n",
       "    }\n",
       "</style>\n",
       "<table border=\"1\" class=\"dataframe\">\n",
       "  <thead>\n",
       "    <tr style=\"text-align: right;\">\n",
       "      <th></th>\n",
       "      <th>Точка</th>\n",
       "      <th>Тип</th>\n",
       "      <th>Препарат</th>\n",
       "      <th>Значение_1</th>\n",
       "      <th>Значение_2</th>\n",
       "      <th>Значение_3</th>\n",
       "      <th>Значение_4</th>\n",
       "      <th>Значение_5</th>\n",
       "      <th>Значение_6</th>\n",
       "      <th>Значение_7</th>\n",
       "      <th>Значение_8</th>\n",
       "    </tr>\n",
       "  </thead>\n",
       "  <tbody>\n",
       "    <tr>\n",
       "      <th>0</th>\n",
       "      <td>1</td>\n",
       "      <td>Сфероиды с микросферами</td>\n",
       "      <td>Цисплатин средняя конц.</td>\n",
       "      <td>2168.6</td>\n",
       "      <td>1335.0</td>\n",
       "      <td>1554.0</td>\n",
       "      <td>1587.0</td>\n",
       "      <td>1298.0</td>\n",
       "      <td>1594.0</td>\n",
       "      <td>1089.0</td>\n",
       "      <td>1075.0</td>\n",
       "    </tr>\n",
       "    <tr>\n",
       "      <th>1</th>\n",
       "      <td>1</td>\n",
       "      <td>Сфероиды с микросферами</td>\n",
       "      <td>Цисплатин низкая конц.</td>\n",
       "      <td>1476.0</td>\n",
       "      <td>1590.0</td>\n",
       "      <td>1454.0</td>\n",
       "      <td>1293.0</td>\n",
       "      <td>1254.0</td>\n",
       "      <td>1188.0</td>\n",
       "      <td>1667.0</td>\n",
       "      <td>2358.6</td>\n",
       "    </tr>\n",
       "    <tr>\n",
       "      <th>2</th>\n",
       "      <td>1</td>\n",
       "      <td>Сфероиды с микросферами</td>\n",
       "      <td>Средняя конц. 2 ант.</td>\n",
       "      <td>1200.0</td>\n",
       "      <td>817.0</td>\n",
       "      <td>915.0</td>\n",
       "      <td>1333.0</td>\n",
       "      <td>1160.0</td>\n",
       "      <td>1155.0</td>\n",
       "      <td>1282.0</td>\n",
       "      <td>1367.0</td>\n",
       "    </tr>\n",
       "  </tbody>\n",
       "</table>\n",
       "</div>"
      ],
      "text/plain": [
       "   Точка                      Тип                 Препарат  Значение_1  \\\n",
       "0      1  Сфероиды с микросферами  Цисплатин средняя конц.      2168.6   \n",
       "1      1  Сфероиды с микросферами   Цисплатин низкая конц.      1476.0   \n",
       "2      1  Сфероиды с микросферами     Средняя конц. 2 ант.      1200.0   \n",
       "\n",
       "   Значение_2  Значение_3  Значение_4  Значение_5  Значение_6  Значение_7  \\\n",
       "0      1335.0      1554.0      1587.0      1298.0      1594.0      1089.0   \n",
       "1      1590.0      1454.0      1293.0      1254.0      1188.0      1667.0   \n",
       "2       817.0       915.0      1333.0      1160.0      1155.0      1282.0   \n",
       "\n",
       "   Значение_8  \n",
       "0      1075.0  \n",
       "1      2358.6  \n",
       "2      1367.0  "
      ]
     },
     "execution_count": 5,
     "metadata": {},
     "output_type": "execute_result"
    }
   ],
   "source": [
    "data.head(3)"
   ]
  },
  {
   "cell_type": "code",
   "execution_count": 7,
   "metadata": {},
   "outputs": [],
   "source": [
    "value_columns = ['Значение_1', 'Значение_2', 'Значение_3',\n",
    "                 'Значение_4', 'Значение_5', 'Значение_6',\n",
    "                 'Значение_7', 'Значение_8']"
   ]
  },
  {
   "cell_type": "code",
   "execution_count": 9,
   "metadata": {},
   "outputs": [],
   "source": [
    "from scipy.stats import shapiro \n",
    "import numpy as np\n",
    "import matplotlib.pyplot as plt\n",
    "import scipy.stats as stats\n",
    "import statsmodels.api as sm\n",
    "from statsmodels.formula.api import ols\n",
    "\n",
    "data['normal_check'] = data.apply(lambda x: shapiro(list(x[value_columns]))[1] > 0.05, axis=1)\n",
    "data['shapiro_p_value'] = data.apply(lambda x: shapiro(list(x[value_columns]))[1], axis=1)"
   ]
  },
  {
   "cell_type": "code",
   "execution_count": 11,
   "metadata": {},
   "outputs": [
    {
     "data": {
      "text/html": [
       "<div>\n",
       "<style scoped>\n",
       "    .dataframe tbody tr th:only-of-type {\n",
       "        vertical-align: middle;\n",
       "    }\n",
       "\n",
       "    .dataframe tbody tr th {\n",
       "        vertical-align: top;\n",
       "    }\n",
       "\n",
       "    .dataframe thead th {\n",
       "        text-align: right;\n",
       "    }\n",
       "</style>\n",
       "<table border=\"1\" class=\"dataframe\">\n",
       "  <thead>\n",
       "    <tr style=\"text-align: right;\">\n",
       "      <th></th>\n",
       "      <th>Точка</th>\n",
       "      <th>Тип</th>\n",
       "      <th>Препарат</th>\n",
       "      <th>Значение_1</th>\n",
       "      <th>Значение_2</th>\n",
       "      <th>Значение_3</th>\n",
       "      <th>Значение_4</th>\n",
       "      <th>Значение_5</th>\n",
       "      <th>Значение_6</th>\n",
       "      <th>Значение_7</th>\n",
       "      <th>Значение_8</th>\n",
       "      <th>normal_check</th>\n",
       "      <th>shapiro_p_value</th>\n",
       "    </tr>\n",
       "  </thead>\n",
       "  <tbody>\n",
       "    <tr>\n",
       "      <th>13</th>\n",
       "      <td>3</td>\n",
       "      <td>Сфероиды с микросферами</td>\n",
       "      <td>Цисплатин низкая конц.</td>\n",
       "      <td>1515.0</td>\n",
       "      <td>1765.0</td>\n",
       "      <td>1467.0</td>\n",
       "      <td>1606.0</td>\n",
       "      <td>2275.0</td>\n",
       "      <td>1708.0</td>\n",
       "      <td>1706.0</td>\n",
       "      <td>3164.85</td>\n",
       "      <td>False</td>\n",
       "      <td>0.007068</td>\n",
       "    </tr>\n",
       "    <tr>\n",
       "      <th>17</th>\n",
       "      <td>3</td>\n",
       "      <td>Сфероиды с микросферами</td>\n",
       "      <td>Высокая конц. 2 ант.</td>\n",
       "      <td>813.0</td>\n",
       "      <td>661.0</td>\n",
       "      <td>619.0</td>\n",
       "      <td>664.0</td>\n",
       "      <td>821.0</td>\n",
       "      <td>669.0</td>\n",
       "      <td>609.0</td>\n",
       "      <td>593.00</td>\n",
       "      <td>False</td>\n",
       "      <td>0.044565</td>\n",
       "    </tr>\n",
       "    <tr>\n",
       "      <th>18</th>\n",
       "      <td>4</td>\n",
       "      <td>Сфероиды с микросферами</td>\n",
       "      <td>Цисплатин средняя конц.</td>\n",
       "      <td>1018.0</td>\n",
       "      <td>839.0</td>\n",
       "      <td>1119.0</td>\n",
       "      <td>1090.0</td>\n",
       "      <td>819.0</td>\n",
       "      <td>1044.0</td>\n",
       "      <td>1804.9</td>\n",
       "      <td>1151.00</td>\n",
       "      <td>False</td>\n",
       "      <td>0.017601</td>\n",
       "    </tr>\n",
       "  </tbody>\n",
       "</table>\n",
       "</div>"
      ],
      "text/plain": [
       "    Точка                      Тип                 Препарат  Значение_1  \\\n",
       "13      3  Сфероиды с микросферами   Цисплатин низкая конц.      1515.0   \n",
       "17      3  Сфероиды с микросферами     Высокая конц. 2 ант.       813.0   \n",
       "18      4  Сфероиды с микросферами  Цисплатин средняя конц.      1018.0   \n",
       "\n",
       "    Значение_2  Значение_3  Значение_4  Значение_5  Значение_6  Значение_7  \\\n",
       "13      1765.0      1467.0      1606.0      2275.0      1708.0      1706.0   \n",
       "17       661.0       619.0       664.0       821.0       669.0       609.0   \n",
       "18       839.0      1119.0      1090.0       819.0      1044.0      1804.9   \n",
       "\n",
       "    Значение_8  normal_check  shapiro_p_value  \n",
       "13     3164.85         False         0.007068  \n",
       "17      593.00         False         0.044565  \n",
       "18     1151.00         False         0.017601  "
      ]
     },
     "execution_count": 11,
     "metadata": {},
     "output_type": "execute_result"
    }
   ],
   "source": [
    "data[~data['normal_check']].head(3)"
   ]
  },
  {
   "cell_type": "code",
   "execution_count": 17,
   "metadata": {},
   "outputs": [
    {
     "data": {
      "image/png": "[encoded data removed]",
      "text/plain": [
       "<Figure size 640x480 with 1 Axes>"
      ]
     },
     "metadata": {},
     "output_type": "display_data"
    }
   ],
   "source": [
    "plt.hist(data[~data['normal_check']][value_columns].iloc[2].to_numpy())\n",
    "plt.show()"
   ]
  },
  {
   "cell_type": "code",
   "execution_count": 21,
   "metadata": {},
   "outputs": [
    {
     "name": "stderr",
     "output_type": "stream",
     "text": [
      "C:\\Users\\kantr\\AppData\\Local\\Temp\\ipykernel_30004\\3572678360.py:1: UserWarning: Boolean Series key will be reindexed to match DataFrame index.\n",
      "  data[data['Препарат'] == 'Цисплатин средняя конц.'][data['Точка'] == 1][value_columns].to_numpy()[0]\n"
     ]
    },
    {
     "data": {
      "text/plain": [
       "array([2168.6, 1335. , 1554. , 1587. , 1298. , 1594. , 1089. , 1075. ])"
      ]
     },
     "execution_count": 21,
     "metadata": {},
     "output_type": "execute_result"
    }
   ],
   "source": [
    "data[data['Препарат'] == 'Цисплатин средняя конц.'][data['Точка'] == 1][value_columns].to_numpy()[0]"
   ]
  },
  {
   "cell_type": "code",
   "execution_count": 23,
   "metadata": {
    "scrolled": true
   },
   "outputs": [
    {
     "name": "stdout",
     "output_type": "stream",
     "text": [
      "Цисплатин средняя конц.\n",
      "0.007635094218859962\n",
      "\n",
      "\n",
      "\n",
      "Цисплатин низкая конц.\n",
      "0.3246524673583498\n",
      "\n",
      "\n",
      "\n",
      "Средняя конц. 2 ант.\n",
      "0.00980365503582183\n",
      "\n",
      "\n",
      "\n",
      "Низкая конц. 2 ант.\n",
      "0.0301973834223185\n",
      "\n",
      "\n",
      "\n",
      "К +\n",
      "0.41686201967850856\n",
      "\n",
      "\n",
      "\n",
      "Высокая конц. 2 ант.\n",
      "0.002187491118182885\n",
      "\n",
      "\n",
      "\n"
     ]
    }
   ],
   "source": [
    "from scipy.stats import friedmanchisquare\n",
    "\n",
    "cols = ['Значение_1', 'Значение_2', 'Значение_3',\n",
    "       'Значение_4', 'Значение_5', 'Значение_6', 'Значение_7', 'Значение_8']\n",
    "\n",
    "\n",
    "for i in data['Препарат'].unique():\n",
    "    data_2 = data[(data['Препарат'] == i) & (data['Точка'] != 1)]\n",
    "    data_2 = data_2[cols + ['Точка']]#.to_numpy()\n",
    "    res = friedmanchisquare(#data_2[data_2['Точка'] == 1][cols].to_numpy()[0],\n",
    "                            data_2[data_2['Точка'] == 2][cols].to_numpy()[0],\n",
    "                            data_2[data_2['Точка'] == 3][cols].to_numpy()[0],\n",
    "                            data_2[data_2['Точка'] == 4][cols].to_numpy()[0])\n",
    "    print(i)\n",
    "    #print(anova_table)\n",
    "    print(res.pvalue)\n",
    "    print('\\n\\n')"
   ]
  },
  {
   "cell_type": "code",
   "execution_count": 25,
   "metadata": {
    "scrolled": true
   },
   "outputs": [
    {
     "name": "stdout",
     "output_type": "stream",
     "text": [
      "Цисплатин средняя конц.\n",
      "                sum_sq    df         F    PR(>F)\n",
      "C(Точка)  2.345633e+06   2.0  9.590484  0.001099\n",
      "Residual  2.568082e+06  21.0       NaN       NaN\n",
      "\n",
      "\n",
      "\n",
      "Цисплатин низкая конц.\n",
      "                sum_sq    df         F    PR(>F)\n",
      "C(Точка)  3.535256e+05   2.0  0.522838  0.600353\n",
      "Residual  7.099747e+06  21.0       NaN       NaN\n",
      "\n",
      "\n",
      "\n",
      "Средняя конц. 2 ант.\n",
      "                sum_sq    df          F    PR(>F)\n",
      "C(Точка)  2.343755e+06   2.0  13.689906  0.000156\n",
      "Residual  1.797633e+06  21.0        NaN       NaN\n",
      "\n",
      "\n",
      "\n",
      "Низкая конц. 2 ант.\n",
      "                sum_sq    df         F    PR(>F)\n",
      "C(Точка)  5.116885e+05   2.0  1.650792  0.215844\n",
      "Residual  3.254637e+06  21.0       NaN       NaN\n",
      "\n",
      "\n",
      "\n",
      "К +\n",
      "                sum_sq    df         F    PR(>F)\n",
      "C(Точка)  1.621225e+05   2.0  0.370703  0.694677\n",
      "Residual  4.592053e+06  21.0       NaN       NaN\n",
      "\n",
      "\n",
      "\n",
      "Высокая конц. 2 ант.\n",
      "             sum_sq    df         F    PR(>F)\n",
      "C(Точка)  657934.63   2.0  15.42613  0.000076\n",
      "Residual  447831.93  21.0       NaN       NaN\n",
      "\n",
      "\n",
      "\n"
     ]
    }
   ],
   "source": [
    "from scipy.stats import friedmanchisquare\n",
    "\n",
    "cols = ['Значение_1', 'Значение_2', 'Значение_3',\n",
    "       'Значение_4', 'Значение_5', 'Значение_6', 'Значение_7', 'Значение_8']\n",
    "\n",
    "\n",
    "for i in data['Препарат'].unique():\n",
    "    data_2 = data[(data['Препарат'] == i) & (data['Точка'] != 1)]\n",
    "    data_2 = pd.melt(data_2, id_vars=['Точка'], value_vars=['Значение_1', 'Значение_2', 'Значение_3',\n",
    "       'Значение_4', 'Значение_5', 'Значение_6', 'Значение_7', 'Значение_8'])\n",
    "    model = ols('value ~ C(Точка)', data=data_2[['Точка', 'value']]).fit()\n",
    "    anova_table = sm.stats.anova_lm(model, typ=2)\n",
    "    print(i)\n",
    "    print(anova_table)\n",
    "    print('\\n\\n')"
   ]
  },
  {
   "cell_type": "code",
   "execution_count": 27,
   "metadata": {},
   "outputs": [
    {
     "data": {
      "text/html": [
       "<div>\n",
       "<style scoped>\n",
       "    .dataframe tbody tr th:only-of-type {\n",
       "        vertical-align: middle;\n",
       "    }\n",
       "\n",
       "    .dataframe tbody tr th {\n",
       "        vertical-align: top;\n",
       "    }\n",
       "\n",
       "    .dataframe thead th {\n",
       "        text-align: right;\n",
       "    }\n",
       "</style>\n",
       "<table border=\"1\" class=\"dataframe\">\n",
       "  <thead>\n",
       "    <tr style=\"text-align: right;\">\n",
       "      <th></th>\n",
       "      <th>Точка</th>\n",
       "      <th>Тип</th>\n",
       "      <th>Препарат</th>\n",
       "      <th>Значение_1</th>\n",
       "      <th>Значение_2</th>\n",
       "      <th>Значение_3</th>\n",
       "      <th>Значение_4</th>\n",
       "      <th>Значение_5</th>\n",
       "      <th>Значение_6</th>\n",
       "      <th>Значение_7</th>\n",
       "      <th>Значение_8</th>\n",
       "      <th>normal_check</th>\n",
       "      <th>shapiro_p_value</th>\n",
       "    </tr>\n",
       "  </thead>\n",
       "  <tbody>\n",
       "    <tr>\n",
       "      <th>0</th>\n",
       "      <td>1</td>\n",
       "      <td>Сфероиды с микросферами</td>\n",
       "      <td>Цисплатин средняя конц.</td>\n",
       "      <td>2168.6</td>\n",
       "      <td>1335.0</td>\n",
       "      <td>1554.0</td>\n",
       "      <td>1587.0</td>\n",
       "      <td>1298.0</td>\n",
       "      <td>1594.0</td>\n",
       "      <td>1089.0</td>\n",
       "      <td>1075.0</td>\n",
       "      <td>True</td>\n",
       "      <td>0.267202</td>\n",
       "    </tr>\n",
       "    <tr>\n",
       "      <th>1</th>\n",
       "      <td>1</td>\n",
       "      <td>Сфероиды с микросферами</td>\n",
       "      <td>Цисплатин низкая конц.</td>\n",
       "      <td>1476.0</td>\n",
       "      <td>1590.0</td>\n",
       "      <td>1454.0</td>\n",
       "      <td>1293.0</td>\n",
       "      <td>1254.0</td>\n",
       "      <td>1188.0</td>\n",
       "      <td>1667.0</td>\n",
       "      <td>2358.6</td>\n",
       "      <td>True</td>\n",
       "      <td>0.050593</td>\n",
       "    </tr>\n",
       "    <tr>\n",
       "      <th>2</th>\n",
       "      <td>1</td>\n",
       "      <td>Сфероиды с микросферами</td>\n",
       "      <td>Средняя конц. 2 ант.</td>\n",
       "      <td>1200.0</td>\n",
       "      <td>817.0</td>\n",
       "      <td>915.0</td>\n",
       "      <td>1333.0</td>\n",
       "      <td>1160.0</td>\n",
       "      <td>1155.0</td>\n",
       "      <td>1282.0</td>\n",
       "      <td>1367.0</td>\n",
       "      <td>True</td>\n",
       "      <td>0.280843</td>\n",
       "    </tr>\n",
       "  </tbody>\n",
       "</table>\n",
       "</div>"
      ],
      "text/plain": [
       "   Точка                      Тип                 Препарат  Значение_1  \\\n",
       "0      1  Сфероиды с микросферами  Цисплатин средняя конц.      2168.6   \n",
       "1      1  Сфероиды с микросферами   Цисплатин низкая конц.      1476.0   \n",
       "2      1  Сфероиды с микросферами     Средняя конц. 2 ант.      1200.0   \n",
       "\n",
       "   Значение_2  Значение_3  Значение_4  Значение_5  Значение_6  Значение_7  \\\n",
       "0      1335.0      1554.0      1587.0      1298.0      1594.0      1089.0   \n",
       "1      1590.0      1454.0      1293.0      1254.0      1188.0      1667.0   \n",
       "2       817.0       915.0      1333.0      1160.0      1155.0      1282.0   \n",
       "\n",
       "   Значение_8  normal_check  shapiro_p_value  \n",
       "0      1075.0          True         0.267202  \n",
       "1      2358.6          True         0.050593  \n",
       "2      1367.0          True         0.280843  "
      ]
     },
     "execution_count": 27,
     "metadata": {},
     "output_type": "execute_result"
    }
   ],
   "source": [
    "data.head(3)"
   ]
  },
  {
   "cell_type": "code",
   "execution_count": 29,
   "metadata": {},
   "outputs": [
    {
     "data": {
      "text/html": [
       "<div>\n",
       "<style scoped>\n",
       "    .dataframe tbody tr th:only-of-type {\n",
       "        vertical-align: middle;\n",
       "    }\n",
       "\n",
       "    .dataframe tbody tr th {\n",
       "        vertical-align: top;\n",
       "    }\n",
       "\n",
       "    .dataframe thead th {\n",
       "        text-align: right;\n",
       "    }\n",
       "</style>\n",
       "<table border=\"1\" class=\"dataframe\">\n",
       "  <thead>\n",
       "    <tr style=\"text-align: right;\">\n",
       "      <th></th>\n",
       "      <th>Тип</th>\n",
       "      <th>Препарат</th>\n",
       "      <th>Точка до</th>\n",
       "      <th>Точка после</th>\n",
       "      <th>p-value-tt</th>\n",
       "      <th>p-value-w</th>\n",
       "    </tr>\n",
       "  </thead>\n",
       "  <tbody>\n",
       "  </tbody>\n",
       "</table>\n",
       "</div>"
      ],
      "text/plain": [
       "Empty DataFrame\n",
       "Columns: [Тип, Препарат, Точка до, Точка после, p-value-tt, p-value-w]\n",
       "Index: []"
      ]
     },
     "execution_count": 29,
     "metadata": {},
     "output_type": "execute_result"
    }
   ],
   "source": [
    "result = pd.DataFrame.from_dict({'Тип':[], 'Препарат':[], 'Точка до':[], 'Точка после':[], 'p-value-tt':[], 'p-value-w':[]})\n",
    "result"
   ]
  },
  {
   "cell_type": "code",
   "execution_count": 31,
   "metadata": {},
   "outputs": [],
   "source": [
    "import scipy.stats as stats \n",
    "\n",
    "#data_2 = data[data['Препарат'] == 'Цисплатин низкая конц.']\n",
    "\n",
    "\n",
    "for prep in data['Препарат'].unique():\n",
    "    data_2 = data[data['Препарат'] == prep]\n",
    "    for i in [1, 2, 3, 4]:\n",
    "        for j in [1, 2, 3, 4]:\n",
    "            if i < j:\n",
    "                first = data_2[data_2['Точка'] == i][cols].to_numpy()[0]\n",
    "                second = data_2[data_2['Точка'] == j][cols].to_numpy()[0]\n",
    "\n",
    "                t = stats.ttest_rel(first, second) \n",
    "                \n",
    "                result.loc[len(result.index)] = ['Монослой',\n",
    "                                                prep, i, j, t.pvalue, None] \n",
    "                \n",
    "                #print(i, j, t, 'Есть разница' if t.pvalue < 0.05 else 'NO')"
   ]
  },
  {
   "cell_type": "code",
   "execution_count": 33,
   "metadata": {},
   "outputs": [
    {
     "data": {
      "text/html": [
       "<div>\n",
       "<style scoped>\n",
       "    .dataframe tbody tr th:only-of-type {\n",
       "        vertical-align: middle;\n",
       "    }\n",
       "\n",
       "    .dataframe tbody tr th {\n",
       "        vertical-align: top;\n",
       "    }\n",
       "\n",
       "    .dataframe thead th {\n",
       "        text-align: right;\n",
       "    }\n",
       "</style>\n",
       "<table border=\"1\" class=\"dataframe\">\n",
       "  <thead>\n",
       "    <tr style=\"text-align: right;\">\n",
       "      <th></th>\n",
       "      <th>Тип</th>\n",
       "      <th>Препарат</th>\n",
       "      <th>Точка до</th>\n",
       "      <th>Точка после</th>\n",
       "      <th>p-value-tt</th>\n",
       "      <th>p-value-w</th>\n",
       "    </tr>\n",
       "  </thead>\n",
       "  <tbody>\n",
       "    <tr>\n",
       "      <th>0</th>\n",
       "      <td>Монослой</td>\n",
       "      <td>Цисплатин средняя конц.</td>\n",
       "      <td>1</td>\n",
       "      <td>2</td>\n",
       "      <td>0.067846</td>\n",
       "      <td>None</td>\n",
       "    </tr>\n",
       "    <tr>\n",
       "      <th>1</th>\n",
       "      <td>Монослой</td>\n",
       "      <td>Цисплатин средняя конц.</td>\n",
       "      <td>1</td>\n",
       "      <td>3</td>\n",
       "      <td>0.124678</td>\n",
       "      <td>None</td>\n",
       "    </tr>\n",
       "    <tr>\n",
       "      <th>2</th>\n",
       "      <td>Монослой</td>\n",
       "      <td>Цисплатин средняя конц.</td>\n",
       "      <td>1</td>\n",
       "      <td>4</td>\n",
       "      <td>0.109509</td>\n",
       "      <td>None</td>\n",
       "    </tr>\n",
       "  </tbody>\n",
       "</table>\n",
       "</div>"
      ],
      "text/plain": [
       "        Тип                 Препарат  Точка до  Точка после  p-value-tt  \\\n",
       "0  Монослой  Цисплатин средняя конц.         1            2    0.067846   \n",
       "1  Монослой  Цисплатин средняя конц.         1            3    0.124678   \n",
       "2  Монослой  Цисплатин средняя конц.         1            4    0.109509   \n",
       "\n",
       "  p-value-w  \n",
       "0      None  \n",
       "1      None  \n",
       "2      None  "
      ]
     },
     "execution_count": 33,
     "metadata": {},
     "output_type": "execute_result"
    }
   ],
   "source": [
    "result.head(3)"
   ]
  },
  {
   "cell_type": "code",
   "execution_count": 35,
   "metadata": {},
   "outputs": [],
   "source": [
    "import scipy.stats as stats\n",
    "\n",
    "\n",
    "\n",
    "for prep in data['Препарат'].unique():\n",
    "    data_2 = data[data['Препарат'] == prep]\n",
    "\n",
    "    for i in [1, 2, 3, 4]:\n",
    "        for j in [1, 2, 3, 4]:\n",
    "            if i < j:\n",
    "                first = data_2[data_2['Точка'] == i][cols].to_numpy()[0]\n",
    "                second = data_2[data_2['Точка'] == j][cols].to_numpy()[0]\n",
    "                t = stats.wilcoxon(first, second)\n",
    "            \n",
    "                #print(i, j, 'Есть разница' if t.pvalue < 0.05 else 'NO')\n",
    "            \n",
    "                result.loc[(result['Тип'] == 'Монослой') & (result['Препарат'] == prep) &\n",
    "                       (result['Точка до'] == i) & (result['Точка после'] == j), 'p-value-w'] = t.pvalue"
   ]
  },
  {
   "cell_type": "code",
   "execution_count": 161,
   "metadata": {},
   "outputs": [],
   "source": [
    "result.to_excel('pairwise.xlsx')"
   ]
  },
  {
   "cell_type": "code",
   "execution_count": null,
   "metadata": {},
   "outputs": [],
   "source": []
  },
  {
   "cell_type": "code",
   "execution_count": 37,
   "metadata": {},
   "outputs": [],
   "source": [
    "from statsmodels.stats.power import TTestIndPower"
   ]
  },
  {
   "cell_type": "code",
   "execution_count": 61,
   "metadata": {},
   "outputs": [],
   "source": [
    "import numpy as np\n",
    "import pandas as pd\n",
    "import numpy_indexed as npi\n",
    "import seaborn as sns\n",
    "import matplotlib.pyplot as plt\n",
    "from statsmodels.stats.libqsturng import qsturng, psturng\n",
    "from hypothetical.descriptive import var\n",
    "from itertools import combinations"
   ]
  },
  {
   "cell_type": "code",
   "execution_count": null,
   "metadata": {},
   "outputs": [],
   "source": []
  },
  {
   "cell_type": "code",
   "execution_count": 63,
   "metadata": {},
   "outputs": [
    {
     "data": {
      "text/html": [
       "<div>\n",
       "<style scoped>\n",
       "    .dataframe tbody tr th:only-of-type {\n",
       "        vertical-align: middle;\n",
       "    }\n",
       "\n",
       "    .dataframe tbody tr th {\n",
       "        vertical-align: top;\n",
       "    }\n",
       "\n",
       "    .dataframe thead th {\n",
       "        text-align: right;\n",
       "    }\n",
       "</style>\n",
       "<table border=\"1\" class=\"dataframe\">\n",
       "  <thead>\n",
       "    <tr style=\"text-align: right;\">\n",
       "      <th></th>\n",
       "      <th>Точка</th>\n",
       "      <th>Тип</th>\n",
       "      <th>Препарат</th>\n",
       "      <th>Значение_1</th>\n",
       "      <th>Значение_2</th>\n",
       "      <th>Значение_3</th>\n",
       "      <th>Значение_4</th>\n",
       "      <th>Значение_5</th>\n",
       "      <th>Значение_6</th>\n",
       "      <th>Значение_7</th>\n",
       "      <th>Значение_8</th>\n",
       "      <th>normal_check</th>\n",
       "      <th>shapiro_p_value</th>\n",
       "    </tr>\n",
       "  </thead>\n",
       "  <tbody>\n",
       "    <tr>\n",
       "      <th>5</th>\n",
       "      <td>1</td>\n",
       "      <td>Сфероиды с микросферами</td>\n",
       "      <td>Высокая конц. 2 ант.</td>\n",
       "      <td>642.0</td>\n",
       "      <td>860.0</td>\n",
       "      <td>758.0</td>\n",
       "      <td>832.0</td>\n",
       "      <td>1353.0</td>\n",
       "      <td>1012.0</td>\n",
       "      <td>1279.0</td>\n",
       "      <td>852.0</td>\n",
       "      <td>True</td>\n",
       "      <td>0.276001</td>\n",
       "    </tr>\n",
       "  </tbody>\n",
       "</table>\n",
       "</div>"
      ],
      "text/plain": [
       "   Точка                      Тип              Препарат  Значение_1  \\\n",
       "5      1  Сфероиды с микросферами  Высокая конц. 2 ант.       642.0   \n",
       "\n",
       "   Значение_2  Значение_3  Значение_4  Значение_5  Значение_6  Значение_7  \\\n",
       "5       860.0       758.0       832.0      1353.0      1012.0      1279.0   \n",
       "\n",
       "   Значение_8  normal_check  shapiro_p_value  \n",
       "5       852.0          True         0.276001  "
      ]
     },
     "execution_count": 63,
     "metadata": {},
     "output_type": "execute_result"
    }
   ],
   "source": [
    "data_2.head(1)"
   ]
  },
  {
   "cell_type": "code",
   "execution_count": 65,
   "metadata": {},
   "outputs": [
    {
     "name": "stdout",
     "output_type": "stream",
     "text": [
      "[[642.   1.]\n",
      " [999.   2.]\n",
      " [813.   3.]]\n",
      "[534.0, 593.0, 607.0, 609.0, 619.0, 642.0, 661.0, 664.0, 669.0, 729.0, 753.0, 758.0, 813.0, 821.0, 832.0, 852.0, 854.0, 858.6, 860.0, 916.0, 994.0, 999.0, 1005.0, 1009.0, 1012.0, 1015.0, 1050.0, 1107.0, 1190.0, 1279.0, 1353.0, 1392.7999999999997]\n"
     ]
    }
   ],
   "source": [
    "data_2 = data[data['Препарат'] == 'Высокая конц. 2 ант.']\n",
    "\n",
    "data_2 = pd.melt(data_2, id_vars=['Точка'], value_vars=['Значение_1', 'Значение_2', 'Значение_3',\n",
    "       'Значение_4', 'Значение_5', 'Значение_6', 'Значение_7', 'Значение_8'])\n",
    "\n",
    "sprays = data_2[[ 'value', 'Точка']].to_numpy()\n",
    "\n",
    "print(sprays[:3])\n",
    "print(list(np.unique(sprays[:,0])))"
   ]
  },
  {
   "cell_type": "code",
   "execution_count": 67,
   "metadata": {},
   "outputs": [
    {
     "data": {
      "image/png": "[encoded data removed]",
      "text/plain": [
       "<Figure size 800x400 with 1 Axes>"
      ]
     },
     "metadata": {},
     "output_type": "display_data"
    }
   ],
   "source": [
    "plt.figure(figsize=(8, 4))\n",
    "\n",
    "box = sns.boxplot(x=sprays[:,1], y=sprays[:,0], hue=sprays[:,1], palette=\"Set3\")\n",
    "\n",
    "plt.legend(bbox_to_anchor=(1.05, 1), loc=2, borderaxespad=0.)\n",
    "plt.tight_layout()"
   ]
  },
  {
   "cell_type": "code",
   "execution_count": 69,
   "metadata": {},
   "outputs": [
    {
     "data": {
      "text/plain": [
       "[(1.0, 2.0), (1.0, 3.0), (1.0, 4.0), (2.0, 3.0), (2.0, 4.0), (3.0, 4.0)]"
      ]
     },
     "execution_count": 69,
     "metadata": {},
     "output_type": "execute_result"
    }
   ],
   "source": [
    "alpha = 0.05\n",
    "k = len(np.unique(sprays[:,1]))\n",
    "\n",
    "group_means = dict(npi.group_by(sprays[:, 1], sprays[:, 0], np.mean))\n",
    "group_obs = dict(npi.group_by(sprays[:, 1], sprays[:, 0], len))\n",
    "group_variance = dict(npi.group_by(sprays[:, 1], sprays[:, 0], var))\n",
    "\n",
    "combs = list(combinations(np.unique(sprays[:, 1]), 2))\n",
    "combs"
   ]
  },
  {
   "cell_type": "code",
   "execution_count": 71,
   "metadata": {},
   "outputs": [],
   "source": [
    "group_comps = []\n",
    "mean_differences = []\n",
    "degrees_freedom = []\n",
    "t_values = []\n",
    "p_values = []\n",
    "std_err = []\n",
    "up_conf = []\n",
    "low_conf = []\n",
    "\n",
    "for comb in combs:\n",
    "    # Mean differences of each group combination\n",
    "    diff = group_means[comb[1]] - group_means[comb[0]]\n",
    "    \n",
    "    # t-value of each group combination\n",
    "    t_val = np.abs(diff) / np.sqrt((group_variance[comb[0]] / group_obs[comb[0]]) + \n",
    "                                   (group_variance[comb[1]] / group_obs[comb[1]]))\n",
    "    \n",
    "    # Numerator of the Welch-Satterthwaite equation\n",
    "    df_num = (group_variance[comb[0]] / group_obs[comb[0]] + group_variance[comb[1]] / group_obs[comb[1]]) ** 2\n",
    "    \n",
    "    # Denominator of the Welch-Satterthwaite equation\n",
    "    df_denom = ((group_variance[comb[0]] / group_obs[comb[0]]) ** 2 / (group_obs[comb[0]] - 1) +\n",
    "                (group_variance[comb[1]] / group_obs[comb[1]]) ** 2 / (group_obs[comb[1]] - 1))\n",
    "    \n",
    "    # Degrees of freedom\n",
    "    df = df_num / df_denom\n",
    "    \n",
    "    # p-value of the group comparison\n",
    "    p_val = psturng(t_val * np.sqrt(2), k, df)\n",
    "\n",
    "    # Standard error of each group combination\n",
    "    se = np.sqrt(0.5 * (group_variance[comb[0]] / group_obs[comb[0]] + \n",
    "                        group_variance[comb[1]] / group_obs[comb[1]]))\n",
    "    \n",
    "    # Upper and lower confidence intervals\n",
    "    upper_conf = diff + qsturng(1 - alpha, k, df)\n",
    "    lower_conf = diff - qsturng(1 - alpha, k, df)\n",
    "    \n",
    "    # Append the computed values to their respective lists.\n",
    "    mean_differences.append(diff)\n",
    "    degrees_freedom.append(df)\n",
    "    t_values.append(t_val)\n",
    "    p_values.append(p_val)\n",
    "    std_err.append(se)\n",
    "    up_conf.append(upper_conf)\n",
    "    low_conf.append(lower_conf)\n",
    "    group_comps.append(str(comb[0]) + ' : ' + str(comb[1]))"
   ]
  },
  {
   "cell_type": "code",
   "execution_count": 73,
   "metadata": {},
   "outputs": [
    {
     "data": {
      "text/html": [
       "<div>\n",
       "<style scoped>\n",
       "    .dataframe tbody tr th:only-of-type {\n",
       "        vertical-align: middle;\n",
       "    }\n",
       "\n",
       "    .dataframe tbody tr th {\n",
       "        vertical-align: top;\n",
       "    }\n",
       "\n",
       "    .dataframe thead th {\n",
       "        text-align: right;\n",
       "    }\n",
       "</style>\n",
       "<table border=\"1\" class=\"dataframe\">\n",
       "  <thead>\n",
       "    <tr style=\"text-align: right;\">\n",
       "      <th></th>\n",
       "      <th>groups</th>\n",
       "      <th>mean_difference</th>\n",
       "      <th>std_error</th>\n",
       "      <th>t_value</th>\n",
       "      <th>p_value</th>\n",
       "      <th>upper_limit</th>\n",
       "      <th>lower limit</th>\n",
       "      <th>Checker</th>\n",
       "    </tr>\n",
       "  </thead>\n",
       "  <tbody>\n",
       "    <tr>\n",
       "      <th>0</th>\n",
       "      <td>1.0 : 2.0</td>\n",
       "      <td>127.925</td>\n",
       "      <td>74.134744</td>\n",
       "      <td>1.220165</td>\n",
       "      <td>[0.6174834537197865]</td>\n",
       "      <td>132.130567</td>\n",
       "      <td>123.719433</td>\n",
       "      <td>False</td>\n",
       "    </tr>\n",
       "    <tr>\n",
       "      <th>1</th>\n",
       "      <td>1.0 : 3.0</td>\n",
       "      <td>-267.375</td>\n",
       "      <td>66.309668</td>\n",
       "      <td>2.851208</td>\n",
       "      <td>[0.07693976757502952]</td>\n",
       "      <td>-262.930994</td>\n",
       "      <td>-271.819006</td>\n",
       "      <td>False</td>\n",
       "    </tr>\n",
       "    <tr>\n",
       "      <th>2</th>\n",
       "      <td>1.0 : 4.0</td>\n",
       "      <td>-148.250</td>\n",
       "      <td>76.375453</td>\n",
       "      <td>1.372543</td>\n",
       "      <td>[0.5351409604481432]</td>\n",
       "      <td>-144.078242</td>\n",
       "      <td>-152.421758</td>\n",
       "      <td>False</td>\n",
       "    </tr>\n",
       "    <tr>\n",
       "      <th>3</th>\n",
       "      <td>2.0 : 3.0</td>\n",
       "      <td>-395.300</td>\n",
       "      <td>45.546721</td>\n",
       "      <td>6.136980</td>\n",
       "      <td>0.001</td>\n",
       "      <td>-391.039068</td>\n",
       "      <td>-399.560932</td>\n",
       "      <td>True</td>\n",
       "    </tr>\n",
       "    <tr>\n",
       "      <th>4</th>\n",
       "      <td>2.0 : 4.0</td>\n",
       "      <td>-276.175</td>\n",
       "      <td>59.251511</td>\n",
       "      <td>3.295869</td>\n",
       "      <td>[0.02446583314579731]</td>\n",
       "      <td>-272.059234</td>\n",
       "      <td>-280.290766</td>\n",
       "      <td>True</td>\n",
       "    </tr>\n",
       "    <tr>\n",
       "      <th>5</th>\n",
       "      <td>3.0 : 4.0</td>\n",
       "      <td>119.125</td>\n",
       "      <td>49.109605</td>\n",
       "      <td>1.715226</td>\n",
       "      <td>[0.3647437983676822]</td>\n",
       "      <td>123.426730</td>\n",
       "      <td>114.823270</td>\n",
       "      <td>False</td>\n",
       "    </tr>\n",
       "  </tbody>\n",
       "</table>\n",
       "</div>"
      ],
      "text/plain": [
       "      groups  mean_difference  std_error   t_value                p_value  \\\n",
       "0  1.0 : 2.0          127.925  74.134744  1.220165   [0.6174834537197865]   \n",
       "1  1.0 : 3.0         -267.375  66.309668  2.851208  [0.07693976757502952]   \n",
       "2  1.0 : 4.0         -148.250  76.375453  1.372543   [0.5351409604481432]   \n",
       "3  2.0 : 3.0         -395.300  45.546721  6.136980                  0.001   \n",
       "4  2.0 : 4.0         -276.175  59.251511  3.295869  [0.02446583314579731]   \n",
       "5  3.0 : 4.0          119.125  49.109605  1.715226   [0.3647437983676822]   \n",
       "\n",
       "   upper_limit  lower limit  Checker  \n",
       "0   132.130567   123.719433    False  \n",
       "1  -262.930994  -271.819006    False  \n",
       "2  -144.078242  -152.421758    False  \n",
       "3  -391.039068  -399.560932     True  \n",
       "4  -272.059234  -280.290766     True  \n",
       "5   123.426730   114.823270    False  "
      ]
     },
     "execution_count": 73,
     "metadata": {},
     "output_type": "execute_result"
    }
   ],
   "source": [
    "result_df = pd.DataFrame({'groups': group_comps,\n",
    "                          'mean_difference': mean_differences,\n",
    "                          'std_error': std_err,\n",
    "                          't_value': t_values,\n",
    "                          'p_value': p_values,\n",
    "                          'upper_limit': up_conf,\n",
    "                          'lower limit': low_conf})\n",
    "\n",
    "#result_df['p_value'] = result_df.apply(lambda x: x['p_value'][0], axis=1)\n",
    "result_df['Checker'] = result_df['p_value'] <= 0.05\n",
    "result_df"
   ]
  },
  {
   "cell_type": "code",
   "execution_count": null,
   "metadata": {},
   "outputs": [],
   "source": []
  },
  {
   "cell_type": "code",
   "execution_count": null,
   "metadata": {},
   "outputs": [],
   "source": []
  }
 ],
 "metadata": {
  "kernelspec": {
   "display_name": "Python [conda env:base] *",
   "language": "python",
   "name": "conda-base-py"
  },
  "language_info": {
   "codemirror_mode": {
    "name": "ipython",
    "version": 3
   },
   "file_extension": ".py",
   "mimetype": "text/x-python",
   "name": "python",
   "nbconvert_exporter": "python",
   "pygments_lexer": "ipython3",
   "version": "3.12.7"
  }
 },
 "nbformat": 4,
 "nbformat_minor": 4
}
